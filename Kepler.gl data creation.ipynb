{
 "cells": [
  {
   "cell_type": "code",
   "execution_count": null,
   "metadata": {},
   "outputs": [],
   "source": [
    "import json"
   ]
  },
  {
   "cell_type": "code",
   "execution_count": null,
   "metadata": {},
   "outputs": [],
   "source": [
    "filename = \"india_states.geojson\" # This file provides all the geojson coordinates\n",
    "\n",
    "with open(filename, 'r') as f:\n",
    "        datastore = json.load(f)"
   ]
  },
  {
   "cell_type": "code",
   "execution_count": null,
   "metadata": {},
   "outputs": [],
   "source": [
    "import pandas as pd"
   ]
  },
  {
   "cell_type": "code",
   "execution_count": null,
   "metadata": {},
   "outputs": [],
   "source": [
    "input_file = \"infant_mortality.csv\"\n",
    "df = pd.read_csv(input_file,index_col=\"states\")\n",
    "df = df[:-1] # removing all_india statistics"
   ]
  },
  {
   "cell_type": "code",
   "execution_count": null,
   "metadata": {
    "scrolled": true
   },
   "outputs": [],
   "source": [
    "for e in df.index:\n",
    "    found = False\n",
    "    for i in datastore[\"features\"]:\n",
    "        if i[\"properties\"][\"NAME_1\"] == e:\n",
    "            found = True\n",
    "    if not found:\n",
    "           print(\"no match found for\" ,e)         "
   ]
  },
  {
   "cell_type": "markdown",
   "metadata": {},
   "source": [
    "I have to manually change the file so that I can plot. Very hacky solution below"
   ]
  },
  {
   "cell_type": "code",
   "execution_count": null,
   "metadata": {},
   "outputs": [],
   "source": [
    "for i in datastore[\"features\"]:\n",
    "    print(i[\"properties\"][\"NAME_1\"])"
   ]
  },
  {
   "cell_type": "code",
   "execution_count": null,
   "metadata": {},
   "outputs": [],
   "source": [
    "df[\"new_states\"] = df.index\n",
    "\n",
    "df.loc[\"Jammu & Kashmir\", \"new_states\"] = \"Jammu and Kashmir\"\n",
    "df.loc[\"Odisha\", \"new_states\"] = \"Orissa\"\n",
    "df.loc[\"Uttarakhand\", \"new_states\"] = \"Uttaranchal\"\n",
    "df.loc[\"A& N Islands\", \"new_states\"] = \"Andaman and Nicobar\"\n",
    "df.loc[\"D & N Haveli\", \"new_states\"] = \"Dadra and Nagar Haveli\"\n",
    "df.loc[\"Daman & Diu\", \"new_states\"] = \"Daman and Diu\""
   ]
  },
  {
   "cell_type": "code",
   "execution_count": null,
   "metadata": {},
   "outputs": [],
   "source": [
    "df.drop(index=\"Telangana\", inplace=True)  # Dropping telangana from the map. will update later."
   ]
  },
  {
   "cell_type": "code",
   "execution_count": null,
   "metadata": {},
   "outputs": [],
   "source": [
    "for e in df.new_states:\n",
    "    found = False\n",
    "    for i in datastore[\"features\"]:\n",
    "        if i[\"properties\"][\"NAME_1\"] == e:\n",
    "            found = True\n",
    "    if not found:\n",
    "           print(\"no match found for\" ,e)   "
   ]
  },
  {
   "cell_type": "code",
   "execution_count": null,
   "metadata": {},
   "outputs": [],
   "source": [
    "df.set_index(\"new_states\", inplace=True)"
   ]
  },
  {
   "cell_type": "code",
   "execution_count": null,
   "metadata": {},
   "outputs": [],
   "source": [
    "for e in df.index:\n",
    "    for i in datastore[\"features\"]:\n",
    "        if i[\"properties\"][\"NAME_1\"] == e:\n",
    "            for k in [\"total\", \"urban\", \"rural\"]:\n",
    "                i[\"properties\"][k] = float(df.loc[e,k])"
   ]
  },
  {
   "cell_type": "markdown",
   "metadata": {},
   "source": [
    "Below I create a smaller file."
   ]
  },
  {
   "cell_type": "code",
   "execution_count": null,
   "metadata": {},
   "outputs": [],
   "source": [
    "new_datastore = {\"type\":\"FeatureCollection\"}\n",
    "\n",
    "features = []\n",
    "for e in datastore[\"features\"]:\n",
    "    d = {\"type\":\"Feature\"}\n",
    "    d[\"geometry\"] = e[\"geometry\"]\n",
    "    d[\"properties\"] = {\"Name\": e[\"properties\"][\"NAME_1\"]}\n",
    "    for k in [\"total\", \"urban\", \"rural\"]:\n",
    "                d[\"properties\"][k] = e[\"properties\"][k]\n",
    "    features.append(d)\n",
    "\n",
    "new_datastore[\"features\"] = features"
   ]
  },
  {
   "cell_type": "code",
   "execution_count": null,
   "metadata": {},
   "outputs": [],
   "source": [
    "output_file = \"kepler_\"+input_file.strip(\".csv\") + \".geojson\""
   ]
  },
  {
   "cell_type": "code",
   "execution_count": null,
   "metadata": {},
   "outputs": [],
   "source": [
    "with open(output_file, 'w') as f:\n",
    "        json.dump(new_datastore, f)"
   ]
  },
  {
   "cell_type": "markdown",
   "metadata": {},
   "source": [
    "# Qauntile or Quantize ?"
   ]
  },
  {
   "cell_type": "code",
   "execution_count": null,
   "metadata": {},
   "outputs": [],
   "source": [
    "a= df[\"total\"].values.tolist()"
   ]
  },
  {
   "cell_type": "code",
   "execution_count": null,
   "metadata": {},
   "outputs": [],
   "source": [
    "a.sort()"
   ]
  },
  {
   "cell_type": "code",
   "execution_count": null,
   "metadata": {},
   "outputs": [],
   "source": [
    "import matplotlib.pyplot as plt\n",
    "%matplotlib inline"
   ]
  },
  {
   "cell_type": "code",
   "execution_count": null,
   "metadata": {},
   "outputs": [],
   "source": [
    "plt.scatter(range(len(a)),a)\n",
    "plt.axis('scaled')"
   ]
  },
  {
   "cell_type": "markdown",
   "metadata": {},
   "source": [
    "Going with Quantile becuase of the horizontal line at 25. read [this](https://roadtolarissa.com/blog/2015/01/04/coloring-maps-with-d3/) if confused"
   ]
  },
  {
   "cell_type": "code",
   "execution_count": null,
   "metadata": {},
   "outputs": [],
   "source": []
  }
 ],
 "metadata": {
  "kernelspec": {
   "display_name": "Python 3",
   "language": "python",
   "name": "python3"
  },
  "language_info": {
   "codemirror_mode": {
    "name": "ipython",
    "version": 3
   },
   "file_extension": ".py",
   "mimetype": "text/x-python",
   "name": "python",
   "nbconvert_exporter": "python",
   "pygments_lexer": "ipython3",
   "version": "3.6.3"
  }
 },
 "nbformat": 4,
 "nbformat_minor": 2
}
