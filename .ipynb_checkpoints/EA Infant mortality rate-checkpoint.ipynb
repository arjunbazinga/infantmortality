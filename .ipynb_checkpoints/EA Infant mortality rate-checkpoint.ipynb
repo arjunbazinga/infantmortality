{
 "cells": [
  {
   "cell_type": "markdown",
   "metadata": {},
   "source": [
    "# Effective Altruism: Infant Mortality in India"
   ]
  },
  {
   "cell_type": "markdown",
   "metadata": {},
   "source": [
    "Some back of the envelope calculations show that we loose 8.3 lakh babies every year"
   ]
  },
  {
   "cell_type": "code",
   "execution_count": 46,
   "metadata": {},
   "outputs": [],
   "source": [
    "# All India rates\n",
    "infant_mortality_rate = 34\n",
    "crude_birth_rate = 20.4\n",
    "population = 1210854977\n"
   ]
  },
  {
   "cell_type": "code",
   "execution_count": 47,
   "metadata": {},
   "outputs": [],
   "source": [
    "def lives_lost(infant_mortality_rate, crude_birth_rate, population):\n",
    "    number_of_births = crude_birth_rate * population / 1000\n",
    "    number_of_dead = infant_mortality_rate * number_of_births /1000\n",
    "    return number_of_dead  "
   ]
  },
  {
   "cell_type": "code",
   "execution_count": 48,
   "metadata": {},
   "outputs": [
    {
     "data": {
      "text/plain": [
       "839849.0120472"
      ]
     },
     "execution_count": 48,
     "metadata": {},
     "output_type": "execute_result"
    }
   ],
   "source": [
    "l = lives_lost(infant_mortality_rate, crude_birth_rate, population)\n",
    "l"
   ]
  },
  {
   "cell_type": "code",
   "execution_count": 52,
   "metadata": {},
   "outputs": [],
   "source": [
    "lives_lost_per_min = l /(365 * 24 * 60)"
   ]
  },
  {
   "cell_type": "code",
   "execution_count": 53,
   "metadata": {},
   "outputs": [
    {
     "data": {
      "text/plain": [
       "1.5978862481872147"
      ]
     },
     "execution_count": 53,
     "metadata": {},
     "output_type": "execute_result"
    }
   ],
   "source": [
    "lives_per_sec"
   ]
  },
  {
   "cell_type": "code",
   "execution_count": 56,
   "metadata": {},
   "outputs": [
    {
     "data": {
      "text/plain": [
       "46.996654358447486"
      ]
     },
     "execution_count": 56,
     "metadata": {},
     "output_type": "execute_result"
    }
   ],
   "source": [
    "lives_created_per_min = population * crude_birth_rate /(1000 *365 *24*60)\n",
    "lives_created_per_min"
   ]
  },
  {
   "cell_type": "markdown",
   "metadata": {},
   "source": [
    "# Thats a lot of lives\n"
   ]
  },
  {
   "cell_type": "markdown",
   "metadata": {},
   "source": [
    "# QALY calculation\n",
    "\n",
    "QALY stands for Quality adjusted life years."
   ]
  },
  {
   "cell_type": "code",
   "execution_count": 41,
   "metadata": {},
   "outputs": [],
   "source": [
    "life_expectancy = 68.35\n",
    "qaly_per_life = 60 #something a little less than life expectancy"
   ]
  },
  {
   "cell_type": "code",
   "execution_count": 45,
   "metadata": {},
   "outputs": [
    {
     "data": {
      "text/plain": [
       "50390940.722832"
      ]
     },
     "execution_count": 45,
     "metadata": {},
     "output_type": "execute_result"
    }
   ],
   "source": [
    "qaly_lost = l * qaly_per_life\n",
    "qaly_lost"
   ]
  },
  {
   "cell_type": "markdown",
   "metadata": {},
   "source": [
    "We could analyze the data by states, by urban or rural, by gender. So we can find what is the most effective"
   ]
  },
  {
   "cell_type": "markdown",
   "metadata": {},
   "source": [
    "After lots of painful data processing [here]()"
   ]
  },
  {
   "cell_type": "code",
   "execution_count": 78,
   "metadata": {},
   "outputs": [],
   "source": [
    "import pandas as pd"
   ]
  },
  {
   "cell_type": "code",
   "execution_count": 80,
   "metadata": {},
   "outputs": [],
   "source": [
    "birth_rate = pd.read_csv(\"birth_rate.csv\",index_col=\"states\")\n",
    "infant_mortality = pd.read_csv(\"infant_mortality.csv\", index_col=\"states\")\n",
    "population = pd.read_csv(\"population.csv\", index_col=\"states\")"
   ]
  },
  {
   "cell_type": "code",
   "execution_count": 93,
   "metadata": {},
   "outputs": [
    {
     "data": {
      "text/html": [
       "<div>\n",
       "<style scoped>\n",
       "    .dataframe tbody tr th:only-of-type {\n",
       "        vertical-align: middle;\n",
       "    }\n",
       "\n",
       "    .dataframe tbody tr th {\n",
       "        vertical-align: top;\n",
       "    }\n",
       "\n",
       "    .dataframe thead th {\n",
       "        text-align: right;\n",
       "    }\n",
       "</style>\n",
       "<table border=\"1\" class=\"dataframe\">\n",
       "  <thead>\n",
       "    <tr style=\"text-align: right;\">\n",
       "      <th></th>\n",
       "      <th>total</th>\n",
       "      <th>rural</th>\n",
       "      <th>urban</th>\n",
       "    </tr>\n",
       "    <tr>\n",
       "      <th>states</th>\n",
       "      <th></th>\n",
       "      <th></th>\n",
       "      <th></th>\n",
       "    </tr>\n",
       "  </thead>\n",
       "  <tbody>\n",
       "    <tr>\n",
       "      <th>Andhra Pradesh</th>\n",
       "      <td>16.4</td>\n",
       "      <td>16.7</td>\n",
       "      <td>15.8</td>\n",
       "    </tr>\n",
       "    <tr>\n",
       "      <th>Arunachal Pradesh</th>\n",
       "      <td>18.9</td>\n",
       "      <td>19.5</td>\n",
       "      <td>16.1</td>\n",
       "    </tr>\n",
       "    <tr>\n",
       "      <th>Assam</th>\n",
       "      <td>21.7</td>\n",
       "      <td>22.8</td>\n",
       "      <td>15.0</td>\n",
       "    </tr>\n",
       "    <tr>\n",
       "      <th>Bihar</th>\n",
       "      <td>26.8</td>\n",
       "      <td>27.7</td>\n",
       "      <td>21.1</td>\n",
       "    </tr>\n",
       "    <tr>\n",
       "      <th>Chhattisgarh</th>\n",
       "      <td>22.8</td>\n",
       "      <td>24.1</td>\n",
       "      <td>18.3</td>\n",
       "    </tr>\n",
       "  </tbody>\n",
       "</table>\n",
       "</div>"
      ],
      "text/plain": [
       "                   total  rural  urban\n",
       "states                                \n",
       "Andhra Pradesh      16.4   16.7   15.8\n",
       "Arunachal Pradesh   18.9   19.5   16.1\n",
       "Assam               21.7   22.8   15.0\n",
       "Bihar               26.8   27.7   21.1\n",
       "Chhattisgarh        22.8   24.1   18.3"
      ]
     },
     "execution_count": 93,
     "metadata": {},
     "output_type": "execute_result"
    }
   ],
   "source": [
    "birth_rate[:5]"
   ]
  },
  {
   "cell_type": "code",
   "execution_count": 94,
   "metadata": {
    "scrolled": true
   },
   "outputs": [
    {
     "data": {
      "text/html": [
       "<div>\n",
       "<style scoped>\n",
       "    .dataframe tbody tr th:only-of-type {\n",
       "        vertical-align: middle;\n",
       "    }\n",
       "\n",
       "    .dataframe tbody tr th {\n",
       "        vertical-align: top;\n",
       "    }\n",
       "\n",
       "    .dataframe thead th {\n",
       "        text-align: right;\n",
       "    }\n",
       "</style>\n",
       "<table border=\"1\" class=\"dataframe\">\n",
       "  <thead>\n",
       "    <tr style=\"text-align: right;\">\n",
       "      <th></th>\n",
       "      <th>urban</th>\n",
       "      <th>total</th>\n",
       "      <th>rural</th>\n",
       "    </tr>\n",
       "    <tr>\n",
       "      <th>states</th>\n",
       "      <th></th>\n",
       "      <th></th>\n",
       "      <th></th>\n",
       "    </tr>\n",
       "  </thead>\n",
       "  <tbody>\n",
       "    <tr>\n",
       "      <th>Andhra Pradesh</th>\n",
       "      <td>24</td>\n",
       "      <td>34</td>\n",
       "      <td>38</td>\n",
       "    </tr>\n",
       "    <tr>\n",
       "      <th>Arunachal Pradesh</th>\n",
       "      <td>23</td>\n",
       "      <td>36</td>\n",
       "      <td>38</td>\n",
       "    </tr>\n",
       "    <tr>\n",
       "      <th>Assam</th>\n",
       "      <td>22</td>\n",
       "      <td>44</td>\n",
       "      <td>46</td>\n",
       "    </tr>\n",
       "    <tr>\n",
       "      <th>Bihar</th>\n",
       "      <td>29</td>\n",
       "      <td>38</td>\n",
       "      <td>39</td>\n",
       "    </tr>\n",
       "    <tr>\n",
       "      <th>Chhattisgarh</th>\n",
       "      <td>31</td>\n",
       "      <td>39</td>\n",
       "      <td>41</td>\n",
       "    </tr>\n",
       "  </tbody>\n",
       "</table>\n",
       "</div>"
      ],
      "text/plain": [
       "                   urban  total  rural\n",
       "states                                \n",
       "Andhra Pradesh        24     34     38\n",
       "Arunachal Pradesh     23     36     38\n",
       "Assam                 22     44     46\n",
       "Bihar                 29     38     39\n",
       "Chhattisgarh          31     39     41"
      ]
     },
     "execution_count": 94,
     "metadata": {},
     "output_type": "execute_result"
    }
   ],
   "source": [
    "infant_mortality[:5]"
   ]
  },
  {
   "cell_type": "code",
   "execution_count": 95,
   "metadata": {},
   "outputs": [
    {
     "data": {
      "text/html": [
       "<div>\n",
       "<style scoped>\n",
       "    .dataframe tbody tr th:only-of-type {\n",
       "        vertical-align: middle;\n",
       "    }\n",
       "\n",
       "    .dataframe tbody tr th {\n",
       "        vertical-align: top;\n",
       "    }\n",
       "\n",
       "    .dataframe thead th {\n",
       "        text-align: right;\n",
       "    }\n",
       "</style>\n",
       "<table border=\"1\" class=\"dataframe\">\n",
       "  <thead>\n",
       "    <tr style=\"text-align: right;\">\n",
       "      <th></th>\n",
       "      <th>rural</th>\n",
       "      <th>urban</th>\n",
       "      <th>total</th>\n",
       "    </tr>\n",
       "    <tr>\n",
       "      <th>states</th>\n",
       "      <th></th>\n",
       "      <th></th>\n",
       "      <th></th>\n",
       "    </tr>\n",
       "  </thead>\n",
       "  <tbody>\n",
       "    <tr>\n",
       "      <th>Andhra Pradesh</th>\n",
       "      <td>34776389</td>\n",
       "      <td>14610410</td>\n",
       "      <td>49386799</td>\n",
       "    </tr>\n",
       "    <tr>\n",
       "      <th>Arunachal Pradesh</th>\n",
       "      <td>1066358</td>\n",
       "      <td>317369</td>\n",
       "      <td>1383727</td>\n",
       "    </tr>\n",
       "    <tr>\n",
       "      <th>Assam</th>\n",
       "      <td>26807034</td>\n",
       "      <td>4398542</td>\n",
       "      <td>31205576</td>\n",
       "    </tr>\n",
       "    <tr>\n",
       "      <th>Bihar</th>\n",
       "      <td>92341436</td>\n",
       "      <td>11758016</td>\n",
       "      <td>104099452</td>\n",
       "    </tr>\n",
       "    <tr>\n",
       "      <th>Chhattisgarh</th>\n",
       "      <td>19607961</td>\n",
       "      <td>5937237</td>\n",
       "      <td>25545198</td>\n",
       "    </tr>\n",
       "  </tbody>\n",
       "</table>\n",
       "</div>"
      ],
      "text/plain": [
       "                      rural     urban      total\n",
       "states                                          \n",
       "Andhra Pradesh     34776389  14610410   49386799\n",
       "Arunachal Pradesh   1066358    317369    1383727\n",
       "Assam              26807034   4398542   31205576\n",
       "Bihar              92341436  11758016  104099452\n",
       "Chhattisgarh       19607961   5937237   25545198"
      ]
     },
     "execution_count": 95,
     "metadata": {},
     "output_type": "execute_result"
    }
   ],
   "source": [
    "population[:5]"
   ]
  },
  {
   "cell_type": "code",
   "execution_count": 96,
   "metadata": {},
   "outputs": [],
   "source": [
    "assert len(birth_rate) == len(infant_mortality) == len(population)"
   ]
  },
  {
   "cell_type": "code",
   "execution_count": 97,
   "metadata": {},
   "outputs": [],
   "source": [
    "lives_lost = pd.DataFrame(index=birth_rate.index)\n",
    "number_of_births = pd.DataFrame(index=birth_rate.index)"
   ]
  },
  {
   "cell_type": "code",
   "execution_count": 98,
   "metadata": {},
   "outputs": [],
   "source": [
    "for i in [\"total\",\"urban\",\"rural\"]:\n",
    "    number_of_births[i] = birth_rate[i] * population[i] / 1000\n",
    "    lives_lost[i] = infant_mortality[i] * number_of_births[i] /1000"
   ]
  },
  {
   "cell_type": "code",
   "execution_count": 99,
   "metadata": {
    "scrolled": false
   },
   "outputs": [
    {
     "data": {
      "text/html": [
       "<div>\n",
       "<style scoped>\n",
       "    .dataframe tbody tr th:only-of-type {\n",
       "        vertical-align: middle;\n",
       "    }\n",
       "\n",
       "    .dataframe tbody tr th {\n",
       "        vertical-align: top;\n",
       "    }\n",
       "\n",
       "    .dataframe thead th {\n",
       "        text-align: right;\n",
       "    }\n",
       "</style>\n",
       "<table border=\"1\" class=\"dataframe\">\n",
       "  <thead>\n",
       "    <tr style=\"text-align: right;\">\n",
       "      <th></th>\n",
       "      <th>total</th>\n",
       "      <th>urban</th>\n",
       "      <th>rural</th>\n",
       "    </tr>\n",
       "    <tr>\n",
       "      <th>states</th>\n",
       "      <th></th>\n",
       "      <th></th>\n",
       "      <th></th>\n",
       "    </tr>\n",
       "  </thead>\n",
       "  <tbody>\n",
       "    <tr>\n",
       "      <th>Andhra Pradesh</th>\n",
       "      <td>27538.079122</td>\n",
       "      <td>5540.267472</td>\n",
       "      <td>22069.096459</td>\n",
       "    </tr>\n",
       "    <tr>\n",
       "      <th>Arunachal Pradesh</th>\n",
       "      <td>941.487851</td>\n",
       "      <td>117.521741</td>\n",
       "      <td>790.171278</td>\n",
       "    </tr>\n",
       "    <tr>\n",
       "      <th>Assam</th>\n",
       "      <td>29795.083965</td>\n",
       "      <td>1451.518860</td>\n",
       "      <td>28115.217259</td>\n",
       "    </tr>\n",
       "    <tr>\n",
       "      <th>Bihar</th>\n",
       "      <td>106014.881917</td>\n",
       "      <td>7194.729990</td>\n",
       "      <td>99756.453311</td>\n",
       "    </tr>\n",
       "    <tr>\n",
       "      <th>Chhattisgarh</th>\n",
       "      <td>22714.790062</td>\n",
       "      <td>3368.194550</td>\n",
       "      <td>19374.626264</td>\n",
       "    </tr>\n",
       "    <tr>\n",
       "      <th>Goa</th>\n",
       "      <td>150.521844</td>\n",
       "      <td>85.693923</td>\n",
       "      <td>66.759451</td>\n",
       "    </tr>\n",
       "    <tr>\n",
       "      <th>Gujarat</th>\n",
       "      <td>36445.134276</td>\n",
       "      <td>8658.071413</td>\n",
       "      <td>29004.693124</td>\n",
       "    </tr>\n",
       "    <tr>\n",
       "      <th>Haryana</th>\n",
       "      <td>17317.583692</td>\n",
       "      <td>4368.883092</td>\n",
       "      <td>12712.206430</td>\n",
       "    </tr>\n",
       "    <tr>\n",
       "      <th>Himachal Pradesh</th>\n",
       "      <td>2745.840800</td>\n",
       "      <td>137.366124</td>\n",
       "      <td>2547.620625</td>\n",
       "    </tr>\n",
       "    <tr>\n",
       "      <th>Jammu &amp; Kashmir</th>\n",
       "      <td>4725.562594</td>\n",
       "      <td>939.678335</td>\n",
       "      <td>3962.006100</td>\n",
       "    </tr>\n",
       "    <tr>\n",
       "      <th>Jharkhand</th>\n",
       "      <td>21907.419789</td>\n",
       "      <td>3065.334770</td>\n",
       "      <td>19029.327944</td>\n",
       "    </tr>\n",
       "    <tr>\n",
       "      <th>Karnataka</th>\n",
       "      <td>25806.653453</td>\n",
       "      <td>7272.071104</td>\n",
       "      <td>18715.932832</td>\n",
       "    </tr>\n",
       "    <tr>\n",
       "      <th>Kerala</th>\n",
       "      <td>4777.066723</td>\n",
       "      <td>2294.629344</td>\n",
       "      <td>2498.372305</td>\n",
       "    </tr>\n",
       "    <tr>\n",
       "      <th>Madhya Pradesh</th>\n",
       "      <td>85677.846577</td>\n",
       "      <td>12914.662118</td>\n",
       "      <td>71215.282420</td>\n",
       "    </tr>\n",
       "    <tr>\n",
       "      <th>Maharashtra</th>\n",
       "      <td>33948.285999</td>\n",
       "      <td>10239.879189</td>\n",
       "      <td>24080.736149</td>\n",
       "    </tr>\n",
       "    <tr>\n",
       "      <th>Manipur</th>\n",
       "      <td>405.237169</td>\n",
       "      <td>103.435096</td>\n",
       "      <td>320.227776</td>\n",
       "    </tr>\n",
       "    <tr>\n",
       "      <th>Meghalaya</th>\n",
       "      <td>2742.295503</td>\n",
       "      <td>216.743800</td>\n",
       "      <td>2456.810804</td>\n",
       "    </tr>\n",
       "    <tr>\n",
       "      <th>Mizoram</th>\n",
       "      <td>459.180711</td>\n",
       "      <td>100.860404</td>\n",
       "      <td>334.702095</td>\n",
       "    </tr>\n",
       "    <tr>\n",
       "      <th>Nagaland</th>\n",
       "      <td>332.388336</td>\n",
       "      <td>106.313869</td>\n",
       "      <td>222.953702</td>\n",
       "    </tr>\n",
       "    <tr>\n",
       "      <th>Odisha</th>\n",
       "      <td>34351.700011</td>\n",
       "      <td>3262.302965</td>\n",
       "      <td>31529.458699</td>\n",
       "    </tr>\n",
       "    <tr>\n",
       "      <th>Punjab</th>\n",
       "      <td>8680.890460</td>\n",
       "      <td>2639.303255</td>\n",
       "      <td>6223.096090</td>\n",
       "    </tr>\n",
       "    <tr>\n",
       "      <th>Rajasthan</th>\n",
       "      <td>68294.807783</td>\n",
       "      <td>10791.437805</td>\n",
       "      <td>58401.399168</td>\n",
       "    </tr>\n",
       "    <tr>\n",
       "      <th>Sikkim</th>\n",
       "      <td>162.169251</td>\n",
       "      <td>36.935509</td>\n",
       "      <td>127.502721</td>\n",
       "    </tr>\n",
       "    <tr>\n",
       "      <th>Tamil Nadu</th>\n",
       "      <td>18397.492650</td>\n",
       "      <td>7332.662400</td>\n",
       "      <td>11243.336180</td>\n",
       "    </tr>\n",
       "    <tr>\n",
       "      <th>Telangana</th>\n",
       "      <td>19092.733065</td>\n",
       "      <td>5552.335320</td>\n",
       "      <td>13447.649999</td>\n",
       "    </tr>\n",
       "    <tr>\n",
       "      <th>Tripura</th>\n",
       "      <td>1207.983910</td>\n",
       "      <td>347.661405</td>\n",
       "      <td>831.641462</td>\n",
       "    </tr>\n",
       "    <tr>\n",
       "      <th>Uttarakhand</th>\n",
       "      <td>6362.432994</td>\n",
       "      <td>1414.892832</td>\n",
       "      <td>4847.053915</td>\n",
       "    </tr>\n",
       "    <tr>\n",
       "      <th>Uttar Pradesh</th>\n",
       "      <td>225108.583371</td>\n",
       "      <td>34492.572838</td>\n",
       "      <td>195047.437712</td>\n",
       "    </tr>\n",
       "    <tr>\n",
       "      <th>West Bengal</th>\n",
       "      <td>35141.304275</td>\n",
       "      <td>7552.543319</td>\n",
       "      <td>26272.365243</td>\n",
       "    </tr>\n",
       "    <tr>\n",
       "      <th>A&amp; N Islands</th>\n",
       "      <td>71.244763</td>\n",
       "      <td>5.050778</td>\n",
       "      <td>35.563950</td>\n",
       "    </tr>\n",
       "    <tr>\n",
       "      <th>Chandigarh</th>\n",
       "      <td>205.390570</td>\n",
       "      <td>198.311879</td>\n",
       "      <td>3.339763</td>\n",
       "    </tr>\n",
       "    <tr>\n",
       "      <th>D &amp; N Haveli</th>\n",
       "      <td>143.154798</td>\n",
       "      <td>53.381778</td>\n",
       "      <td>89.652614</td>\n",
       "    </tr>\n",
       "    <tr>\n",
       "      <th>Daman &amp; Diu</th>\n",
       "      <td>110.920632</td>\n",
       "      <td>89.633560</td>\n",
       "      <td>18.155038</td>\n",
       "    </tr>\n",
       "    <tr>\n",
       "      <th>Delhi</th>\n",
       "      <td>4683.835539</td>\n",
       "      <td>4313.204886</td>\n",
       "      <td>170.969136</td>\n",
       "    </tr>\n",
       "    <tr>\n",
       "      <th>Lakshadweep</th>\n",
       "      <td>23.152254</td>\n",
       "      <td>17.716864</td>\n",
       "      <td>5.430144</td>\n",
       "    </tr>\n",
       "    <tr>\n",
       "      <th>Puducherry</th>\n",
       "      <td>173.465467</td>\n",
       "      <td>95.508336</td>\n",
       "      <td>85.995520</td>\n",
       "    </tr>\n",
       "    <tr>\n",
       "      <th>All India</th>\n",
       "      <td>839849.012047</td>\n",
       "      <td>147448.494875</td>\n",
       "      <td>700182.285910</td>\n",
       "    </tr>\n",
       "  </tbody>\n",
       "</table>\n",
       "</div>"
      ],
      "text/plain": [
       "                           total          urban          rural\n",
       "states                                                        \n",
       "Andhra Pradesh      27538.079122    5540.267472   22069.096459\n",
       "Arunachal Pradesh     941.487851     117.521741     790.171278\n",
       "Assam               29795.083965    1451.518860   28115.217259\n",
       "Bihar              106014.881917    7194.729990   99756.453311\n",
       "Chhattisgarh        22714.790062    3368.194550   19374.626264\n",
       "Goa                   150.521844      85.693923      66.759451\n",
       "Gujarat             36445.134276    8658.071413   29004.693124\n",
       "Haryana             17317.583692    4368.883092   12712.206430\n",
       "Himachal Pradesh     2745.840800     137.366124    2547.620625\n",
       "Jammu & Kashmir      4725.562594     939.678335    3962.006100\n",
       "Jharkhand           21907.419789    3065.334770   19029.327944\n",
       "Karnataka           25806.653453    7272.071104   18715.932832\n",
       "Kerala               4777.066723    2294.629344    2498.372305\n",
       "Madhya Pradesh      85677.846577   12914.662118   71215.282420\n",
       "Maharashtra         33948.285999   10239.879189   24080.736149\n",
       "Manipur               405.237169     103.435096     320.227776\n",
       "Meghalaya            2742.295503     216.743800    2456.810804\n",
       "Mizoram               459.180711     100.860404     334.702095\n",
       "Nagaland              332.388336     106.313869     222.953702\n",
       "Odisha              34351.700011    3262.302965   31529.458699\n",
       "Punjab               8680.890460    2639.303255    6223.096090\n",
       "Rajasthan           68294.807783   10791.437805   58401.399168\n",
       "Sikkim                162.169251      36.935509     127.502721\n",
       "Tamil Nadu          18397.492650    7332.662400   11243.336180\n",
       "Telangana           19092.733065    5552.335320   13447.649999\n",
       "Tripura              1207.983910     347.661405     831.641462\n",
       "Uttarakhand          6362.432994    1414.892832    4847.053915\n",
       "Uttar Pradesh      225108.583371   34492.572838  195047.437712\n",
       "West Bengal         35141.304275    7552.543319   26272.365243\n",
       "A& N Islands           71.244763       5.050778      35.563950\n",
       "Chandigarh            205.390570     198.311879       3.339763\n",
       "D & N Haveli          143.154798      53.381778      89.652614\n",
       "Daman & Diu           110.920632      89.633560      18.155038\n",
       "Delhi                4683.835539    4313.204886     170.969136\n",
       "Lakshadweep            23.152254      17.716864       5.430144\n",
       "Puducherry            173.465467      95.508336      85.995520\n",
       "All India          839849.012047  147448.494875  700182.285910"
      ]
     },
     "execution_count": 99,
     "metadata": {},
     "output_type": "execute_result"
    }
   ],
   "source": [
    "lives_lost"
   ]
  },
  {
   "cell_type": "markdown",
   "metadata": {},
   "source": [
    "# Analysis"
   ]
  },
  {
   "cell_type": "code",
   "execution_count": 113,
   "metadata": {},
   "outputs": [],
   "source": [
    "import matplotlib.pyplot as plt\n",
    "%matplotlib inline"
   ]
  },
  {
   "cell_type": "code",
   "execution_count": 150,
   "metadata": {},
   "outputs": [],
   "source": [
    "lives_lost = lives_lost[:-1]  # removing all india data\n",
    "infant_mortality = infant_mortality[:-1]"
   ]
  },
  {
   "cell_type": "code",
   "execution_count": 151,
   "metadata": {},
   "outputs": [
    {
     "data": {
      "image/png": "[encoded data removed]",
      "text/plain": [
       "<Figure size 1440x720 with 1 Axes>"
      ]
     },
     "metadata": {},
     "output_type": "display_data"
    }
   ],
   "source": [
    "lives_lost.plot.bar(figsize=(20,10), title=\"lives lost per state\")\n",
    "plt.show()"
   ]
  },
  {
   "cell_type": "code",
   "execution_count": 152,
   "metadata": {
    "scrolled": true
   },
   "outputs": [
    {
     "data": {
      "image/png": "[encoded data removed]",
      "text/plain": [
       "<Figure size 1440x720 with 1 Axes>"
      ]
     },
     "metadata": {},
     "output_type": "display_data"
    }
   ],
   "source": [
    "infant_mortality.plot.bar(figsize=(20,10), title=\"Infant mortality rate\")\n",
    "plt.show()"
   ]
  },
  {
   "cell_type": "markdown",
   "metadata": {},
   "source": [
    "download [this](\"keplergl.json\") and go to [here](https://uber.github.io/kepler.gl/#/demo)"
   ]
  },
  {
   "cell_type": "code",
   "execution_count": 153,
   "metadata": {},
   "outputs": [
    {
     "data": {
      "text/plain": [
       "urban            Odisha\n",
       "total    Madhya Pradesh\n",
       "rural    Madhya Pradesh\n",
       "dtype: object"
      ]
     },
     "execution_count": 153,
     "metadata": {},
     "output_type": "execute_result"
    }
   ],
   "source": [
    "infant_mortality.idxmax()"
   ]
  },
  {
   "cell_type": "code",
   "execution_count": 154,
   "metadata": {},
   "outputs": [
    {
     "data": {
      "text/plain": [
       "urban           Goa\n",
       "total           Goa\n",
       "rural    Chandigarh\n",
       "dtype: object"
      ]
     },
     "execution_count": 154,
     "metadata": {},
     "output_type": "execute_result"
    }
   ],
   "source": [
    "infant_mortality.idxmin()"
   ]
  },
  {
   "cell_type": "code",
   "execution_count": 155,
   "metadata": {},
   "outputs": [
    {
     "data": {
      "image/png": "[encoded data removed]",
      "text/plain": [
       "<Figure size 1440x720 with 4 Axes>"
      ]
     },
     "metadata": {},
     "output_type": "display_data"
    }
   ],
   "source": [
    "infant_mortality.hist(figsize=(20,10))\n",
    "plt.show()"
   ]
  },
  {
   "cell_type": "code",
   "execution_count": 157,
   "metadata": {},
   "outputs": [
    {
     "data": {
      "text/plain": [
       "urban    20.722222\n",
       "total    26.166667\n",
       "rural    28.083333\n",
       "dtype: float64"
      ]
     },
     "execution_count": 157,
     "metadata": {},
     "output_type": "execute_result"
    }
   ],
   "source": [
    "infant_mortality.mean()"
   ]
  },
  {
   "cell_type": "code",
   "execution_count": 158,
   "metadata": {},
   "outputs": [
    {
     "data": {
      "text/plain": [
       "urban    20.5\n",
       "total    24.5\n",
       "rural    25.0\n",
       "dtype: float64"
      ]
     },
     "execution_count": 158,
     "metadata": {},
     "output_type": "execute_result"
    }
   ],
   "source": [
    "infant_mortality.median()"
   ]
  },
  {
   "cell_type": "code",
   "execution_count": 165,
   "metadata": {},
   "outputs": [
    {
     "data": {
      "text/plain": [
       "urban    33\n",
       "total    47\n",
       "rural    50\n",
       "Name: Madhya Pradesh, dtype: int64"
      ]
     },
     "execution_count": 165,
     "metadata": {},
     "output_type": "execute_result"
    }
   ],
   "source": [
    "infant_mortality.loc[\"Madhya Pradesh\"]"
   ]
  },
  {
   "cell_type": "code",
   "execution_count": null,
   "metadata": {},
   "outputs": [],
   "source": []
  }
 ],
 "metadata": {
  "kernelspec": {
   "display_name": "Python 3",
   "language": "python",
   "name": "python3"
  },
  "language_info": {
   "codemirror_mode": {
    "name": "ipython",
    "version": 3
   },
   "file_extension": ".py",
   "mimetype": "text/x-python",
   "name": "python",
   "nbconvert_exporter": "python",
   "pygments_lexer": "ipython3",
   "version": "3.6.3"
  }
 },
 "nbformat": 4,
 "nbformat_minor": 2
}
