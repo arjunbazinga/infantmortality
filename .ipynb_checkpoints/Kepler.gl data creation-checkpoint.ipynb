{
 "cells": [
  {
   "cell_type": "code",
   "execution_count": 1,
   "metadata": {},
   "outputs": [],
   "source": [
    "import json"
   ]
  },
  {
   "cell_type": "code",
   "execution_count": 2,
   "metadata": {},
   "outputs": [],
   "source": [
    "filename = \"india_states.geojson\""
   ]
  },
  {
   "cell_type": "code",
   "execution_count": 3,
   "metadata": {},
   "outputs": [],
   "source": [
    "with open(filename, 'r') as f:\n",
    "        datastore = json.load(f)"
   ]
  },
  {
   "cell_type": "code",
   "execution_count": 4,
   "metadata": {},
   "outputs": [],
   "source": [
    "import pandas as pd"
   ]
  },
  {
   "cell_type": "code",
   "execution_count": 5,
   "metadata": {},
   "outputs": [],
   "source": [
    "df = pd.read_csv(\"infant_mortality.csv\",index_col=\"states\")\n",
    "df = df[:-1] # removing all_india statistics"
   ]
  },
  {
   "cell_type": "code",
   "execution_count": 6,
   "metadata": {
    "scrolled": true
   },
   "outputs": [
    {
     "data": {
      "text/html": [
       "<div>\n",
       "<style scoped>\n",
       "    .dataframe tbody tr th:only-of-type {\n",
       "        vertical-align: middle;\n",
       "    }\n",
       "\n",
       "    .dataframe tbody tr th {\n",
       "        vertical-align: top;\n",
       "    }\n",
       "\n",
       "    .dataframe thead th {\n",
       "        text-align: right;\n",
       "    }\n",
       "</style>\n",
       "<table border=\"1\" class=\"dataframe\">\n",
       "  <thead>\n",
       "    <tr style=\"text-align: right;\">\n",
       "      <th></th>\n",
       "      <th>urban</th>\n",
       "      <th>total</th>\n",
       "      <th>rural</th>\n",
       "    </tr>\n",
       "    <tr>\n",
       "      <th>states</th>\n",
       "      <th></th>\n",
       "      <th></th>\n",
       "      <th></th>\n",
       "    </tr>\n",
       "  </thead>\n",
       "  <tbody>\n",
       "    <tr>\n",
       "      <th>Andhra Pradesh</th>\n",
       "      <td>24</td>\n",
       "      <td>34</td>\n",
       "      <td>38</td>\n",
       "    </tr>\n",
       "    <tr>\n",
       "      <th>Arunachal Pradesh</th>\n",
       "      <td>23</td>\n",
       "      <td>36</td>\n",
       "      <td>38</td>\n",
       "    </tr>\n",
       "    <tr>\n",
       "      <th>Assam</th>\n",
       "      <td>22</td>\n",
       "      <td>44</td>\n",
       "      <td>46</td>\n",
       "    </tr>\n",
       "    <tr>\n",
       "      <th>Bihar</th>\n",
       "      <td>29</td>\n",
       "      <td>38</td>\n",
       "      <td>39</td>\n",
       "    </tr>\n",
       "    <tr>\n",
       "      <th>Chhattisgarh</th>\n",
       "      <td>31</td>\n",
       "      <td>39</td>\n",
       "      <td>41</td>\n",
       "    </tr>\n",
       "  </tbody>\n",
       "</table>\n",
       "</div>"
      ],
      "text/plain": [
       "                   urban  total  rural\n",
       "states                                \n",
       "Andhra Pradesh        24     34     38\n",
       "Arunachal Pradesh     23     36     38\n",
       "Assam                 22     44     46\n",
       "Bihar                 29     38     39\n",
       "Chhattisgarh          31     39     41"
      ]
     },
     "execution_count": 6,
     "metadata": {},
     "output_type": "execute_result"
    }
   ],
   "source": [
    "df.head()"
   ]
  },
  {
   "cell_type": "code",
   "execution_count": 7,
   "metadata": {},
   "outputs": [
    {
     "name": "stdout",
     "output_type": "stream",
     "text": [
      "no match found for Jammu & Kashmir\n",
      "no match found for Odisha\n",
      "no match found for Telangana\n",
      "no match found for Uttarakhand\n",
      "no match found for A& N Islands\n",
      "no match found for D & N Haveli\n",
      "no match found for Daman & Diu\n"
     ]
    }
   ],
   "source": [
    "for e in df.index:\n",
    "    found = False\n",
    "    for i in datastore[\"features\"]:\n",
    "        if i[\"properties\"][\"NAME_1\"] == e:\n",
    "            found = True\n",
    "    if not found:\n",
    "           print(\"no match found for\" ,e)         "
   ]
  },
  {
   "cell_type": "code",
   "execution_count": 8,
   "metadata": {},
   "outputs": [],
   "source": [
    "df[\"new_states\"] = df.index"
   ]
  },
  {
   "cell_type": "code",
   "execution_count": 9,
   "metadata": {},
   "outputs": [],
   "source": [
    "df.loc[\"Jammu & Kashmir\", \"new_states\"] = \"Jammu and Kashmir\"\n",
    "df.loc[\"Odisha\", \"new_states\"] = \"Orissa\"\n",
    "df.loc[\"Uttarakhand\", \"new_states\"] = \"Uttaranchal\"\n",
    "df.loc[\"A& N Islands\", \"new_states\"] = \"Andaman and Nicobar\"\n",
    "df.loc[\"D & N Haveli\", \"new_states\"] = \"Dadra and Nagar Haveli\"\n",
    "df.loc[\"Daman & Diu\", \"new_states\"] = \"Daman and Diu\""
   ]
  },
  {
   "cell_type": "code",
   "execution_count": 10,
   "metadata": {},
   "outputs": [
    {
     "name": "stdout",
     "output_type": "stream",
     "text": [
      "no match found for Telangana\n"
     ]
    }
   ],
   "source": [
    "for e in df.new_states:\n",
    "    found = False\n",
    "    for i in datastore[\"features\"]:\n",
    "        if i[\"properties\"][\"NAME_1\"] == e:\n",
    "            found = True\n",
    "    if not found:\n",
    "           print(\"no match found for\" ,e)   "
   ]
  },
  {
   "cell_type": "code",
   "execution_count": 11,
   "metadata": {},
   "outputs": [],
   "source": [
    "df.drop(index=\"Telangana\", inplace=True)"
   ]
  },
  {
   "cell_type": "code",
   "execution_count": 12,
   "metadata": {},
   "outputs": [],
   "source": [
    "df.set_index(\"new_states\", inplace=True)"
   ]
  },
  {
   "cell_type": "code",
   "execution_count": 15,
   "metadata": {},
   "outputs": [],
   "source": [
    "for e in df.index:\n",
    "    for i in datastore[\"features\"]:\n",
    "        if i[\"properties\"][\"NAME_1\"] == e:\n",
    "            for k in [\"total\", \"urban\", \"rural\"]:\n",
    "                i[\"properties\"][k] = float(df.loc[e,k])"
   ]
  },
  {
   "cell_type": "code",
   "execution_count": 16,
   "metadata": {},
   "outputs": [],
   "source": [
    " with open('kepler.geojson', 'w') as f:\n",
    "        json.dump(datastore, f)"
   ]
  },
  {
   "cell_type": "markdown",
   "metadata": {},
   "source": [
    "The resulting file felt big, so this code creates a smaller form"
   ]
  },
  {
   "cell_type": "code",
   "execution_count": 36,
   "metadata": {},
   "outputs": [],
   "source": [
    "new_datastore = {\"type\":\"FeatureCollection\"}\n",
    "\n",
    "features = []\n",
    "for e in datastore[\"features\"]:\n",
    "    d = {\"type\":\"Feature\"}\n",
    "    d[\"geometry\"] = e[\"geometry\"]\n",
    "    d[\"properties\"] = {\"Name\": e[\"properties\"][\"NAME_1\"]}\n",
    "    for k in [\"total\", \"urban\", \"rural\"]:\n",
    "                d[\"properties\"][k] = e[\"properties\"][k]\n",
    "    features.append(d)\n",
    "\n",
    "new_datastore[\"features\"] = features"
   ]
  },
  {
   "cell_type": "code",
   "execution_count": 37,
   "metadata": {},
   "outputs": [],
   "source": [
    "with open('kepler.min.geojson', 'w') as f:\n",
    "        json.dump(new_datastore, f)"
   ]
  },
  {
   "cell_type": "code",
   "execution_count": 38,
   "metadata": {},
   "outputs": [],
   "source": [
    "a= df[\"total\"].values.tolist()"
   ]
  },
  {
   "cell_type": "code",
   "execution_count": 39,
   "metadata": {},
   "outputs": [],
   "source": [
    "a.sort()"
   ]
  },
  {
   "cell_type": "code",
   "execution_count": 40,
   "metadata": {},
   "outputs": [],
   "source": [
    "import matplotlib.pyplot as plt\n",
    "%matplotlib inline"
   ]
  },
  {
   "cell_type": "code",
   "execution_count": 41,
   "metadata": {},
   "outputs": [
    {
     "data": {
      "text/plain": [
       "(-1.7098566308243723,\n",
       " 35.70985663082437,\n",
       " 6.0348233995584994,\n",
       " 48.965176600441495)"
      ]
     },
     "execution_count": 41,
     "metadata": {},
     "output_type": "execute_result"
    },
    {
     "data": {
      "image/png": "[encoded data removed]",
      "text/plain": [
       "<Figure size 432x288 with 1 Axes>"
      ]
     },
     "metadata": {},
     "output_type": "display_data"
    }
   ],
   "source": [
    "plt.scatter(range(len(a)),a)\n",
    "plt.axis('scaled')"
   ]
  },
  {
   "cell_type": "markdown",
   "metadata": {},
   "source": [
    "Going with Quantile becuase of the horizontal line at 25. read [this](https://roadtolarissa.com/blog/2015/01/04/coloring-maps-with-d3/) if confused"
   ]
  },
  {
   "cell_type": "code",
   "execution_count": null,
   "metadata": {},
   "outputs": [],
   "source": []
  }
 ],
 "metadata": {
  "kernelspec": {
   "display_name": "Python 3",
   "language": "python",
   "name": "python3"
  },
  "language_info": {
   "codemirror_mode": {
    "name": "ipython",
    "version": 3
   },
   "file_extension": ".py",
   "mimetype": "text/x-python",
   "name": "python",
   "nbconvert_exporter": "python",
   "pygments_lexer": "ipython3",
   "version": "3.6.3"
  }
 },
 "nbformat": 4,
 "nbformat_minor": 2
}
